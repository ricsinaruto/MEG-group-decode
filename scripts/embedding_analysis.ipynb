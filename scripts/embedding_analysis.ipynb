{
 "cells": [
  {
   "cell_type": "code",
   "execution_count": 2,
   "metadata": {},
   "outputs": [],
   "source": [
    "import os\n",
    "import scipy\n",
    "import numpy as np\n",
    "import matplotlib.pyplot as plt\n",
    "from scipy.io import loadmat\n",
    "from scipy.stats import pearsonr\n",
    "from scipy.spatial import distance_matrix\n",
    "from sklearn.decomposition import PCA\n",
    "from sklearn import manifold\n",
    "import pylab\n",
    "import scipy.cluster.hierarchy as sch\n",
    "import pandas as pd"
   ]
  },
  {
   "cell_type": "code",
   "execution_count": 46,
   "metadata": {},
   "outputs": [],
   "source": [
    "path = os.path.join('cichy_data', 'all_noshuffle_wavenetclass_semb10_drop0.4', 'sub_emb.mat')\n",
    "data = np.array(loadmat(path)['X'])"
   ]
  },
  {
   "cell_type": "code",
   "execution_count": 3,
   "metadata": {},
   "outputs": [
    {
     "data": {
      "text/plain": [
       "(15, 10)"
      ]
     },
     "execution_count": 3,
     "metadata": {},
     "output_type": "execute_result"
    }
   ],
   "source": [
    "data.shape"
   ]
  },
  {
   "cell_type": "code",
   "execution_count": 47,
   "metadata": {},
   "outputs": [],
   "source": [
    "# pairwise distances\n",
    "dist_mat = distance_matrix(data, data)"
   ]
  },
  {
   "cell_type": "code",
   "execution_count": 6,
   "metadata": {},
   "outputs": [],
   "source": [
    "for d in dist_mat:\n",
    "    d = [str(t) for t in d]\n",
    "    #print('\\t'.join(d))"
   ]
  },
  {
   "cell_type": "code",
   "execution_count": 8,
   "metadata": {},
   "outputs": [
    {
     "name": "stderr",
     "output_type": "stream",
     "text": [
      "/Users/ricsi/miniconda3/envs/main/lib/python3.8/site-packages/sklearn/manifold/_t_sne.py:780: FutureWarning: The default initialization in TSNE will change from 'random' to 'pca' in 1.2.\n",
      "  warnings.warn(\n",
      "/Users/ricsi/miniconda3/envs/main/lib/python3.8/site-packages/sklearn/manifold/_t_sne.py:790: FutureWarning: The default learning rate in TSNE will change from 200.0 to 'auto' in 1.2.\n",
      "  warnings.warn(\n"
     ]
    }
   ],
   "source": [
    "# cluster embeddings\n",
    "mds = manifold.MDS()\n",
    "mds_data = mds.fit_transform(data)\n",
    "tsne = manifold.TSNE()\n",
    "tsne_data = tsne.fit_transform(data)"
   ]
  },
  {
   "cell_type": "code",
   "execution_count": 12,
   "metadata": {},
   "outputs": [
    {
     "data": {
      "text/plain": [
       "<matplotlib.collections.PathCollection at 0x7fab68938ac0>"
      ]
     },
     "execution_count": 12,
     "metadata": {},
     "output_type": "execute_result"
    },
    {
     "data": {
      "image/png": "[encoded data removed]",
      "text/plain": [
       "<Figure size 432x288 with 1 Axes>"
      ]
     },
     "metadata": {
      "needs_background": "light"
     },
     "output_type": "display_data"
    }
   ],
   "source": [
    "plt.scatter(tsne_data[:, 0], tsne_data[:, 1])"
   ]
  },
  {
   "cell_type": "code",
   "execution_count": 25,
   "metadata": {},
   "outputs": [],
   "source": [
    "# load accuracy recovery matrix\n",
    "df = pd.read_csv('emb_matrix.txt', sep=\"\\t\", header=0)\n",
    "emb_matrix = df.to_numpy()\n",
    "dist_matrix = 1 - emb_matrix\n",
    "dist_matrix = (dist_matrix + dist_matrix.T)/2"
   ]
  },
  {
   "cell_type": "code",
   "execution_count": 32,
   "metadata": {},
   "outputs": [
    {
     "name": "stderr",
     "output_type": "stream",
     "text": [
      "/Users/ricsi/miniconda3/envs/main/lib/python3.8/site-packages/sklearn/manifold/_mds.py:517: UserWarning: The MDS API has changed. ``fit`` now constructs an dissimilarity matrix from data. To use a custom dissimilarity matrix, set ``dissimilarity='precomputed'``.\n",
      "  warnings.warn(\n",
      "/Users/ricsi/miniconda3/envs/main/lib/python3.8/site-packages/sklearn/manifold/_t_sne.py:780: FutureWarning: The default initialization in TSNE will change from 'random' to 'pca' in 1.2.\n",
      "  warnings.warn(\n",
      "/Users/ricsi/miniconda3/envs/main/lib/python3.8/site-packages/sklearn/manifold/_t_sne.py:790: FutureWarning: The default learning rate in TSNE will change from 200.0 to 'auto' in 1.2.\n",
      "  warnings.warn(\n"
     ]
    }
   ],
   "source": [
    "# cluster accuracy matrices\n",
    "mds = manifold.MDS()\n",
    "mds_data = mds.fit_transform(emb_matrix.T)\n",
    "tsne = manifold.TSNE()\n",
    "tsne_data = tsne.fit_transform(emb_matrix.T)"
   ]
  },
  {
   "cell_type": "code",
   "execution_count": 26,
   "metadata": {},
   "outputs": [
    {
     "name": "stderr",
     "output_type": "stream",
     "text": [
      "/Users/ricsi/miniconda3/envs/main/lib/python3.8/site-packages/sklearn/manifold/_t_sne.py:780: FutureWarning: The default initialization in TSNE will change from 'random' to 'pca' in 1.2.\n",
      "  warnings.warn(\n",
      "/Users/ricsi/miniconda3/envs/main/lib/python3.8/site-packages/sklearn/manifold/_t_sne.py:790: FutureWarning: The default learning rate in TSNE will change from 200.0 to 'auto' in 1.2.\n",
      "  warnings.warn(\n",
      "/Users/ricsi/miniconda3/envs/main/lib/python3.8/site-packages/sklearn/manifold/_t_sne.py:819: FutureWarning: 'square_distances' has been introduced in 0.24 to help phase out legacy squaring behavior. The 'legacy' setting will be removed in 1.1 (renaming of 0.26), and the default setting will be changed to True. In 1.3, 'square_distances' will be removed altogether, and distances will be squared by default. Set 'square_distances'=True to silence this warning.\n",
      "  warnings.warn(\n"
     ]
    }
   ],
   "source": [
    "# cluster average recovered accuracies both ways matrices\n",
    "mds = manifold.MDS(dissimilarity='precomputed')\n",
    "mds_data = mds.fit_transform(dist_matrix)\n",
    "tsne = manifold.TSNE(metric='precomputed')\n",
    "tsne_data = tsne.fit_transform(dist_matrix)"
   ]
  },
  {
   "cell_type": "code",
   "execution_count": 34,
   "metadata": {},
   "outputs": [
    {
     "data": {
      "text/plain": [
       "<matplotlib.collections.PathCollection at 0x7fab809d46a0>"
      ]
     },
     "execution_count": 34,
     "metadata": {},
     "output_type": "execute_result"
    },
    {
     "data": {
      "image/png": "[encoded data removed]",
      "text/plain": [
       "<Figure size 432x288 with 1 Axes>"
      ]
     },
     "metadata": {
      "needs_background": "light"
     },
     "output_type": "display_data"
    }
   ],
   "source": [
    "plt.scatter(mds_data[:, 0], mds_data[:, 1])"
   ]
  },
  {
   "cell_type": "code",
   "execution_count": 48,
   "metadata": {},
   "outputs": [
    {
     "name": "stderr",
     "output_type": "stream",
     "text": [
      "/var/folders/nv/wjmf18wd5_j38vg9v0cthl5h0000gn/T/ipykernel_3012/672112163.py:6: ClusterWarning: scipy.cluster: The symmetric non-negative hollow observation matrix looks suspiciously like an uncondensed distance matrix\n",
      "  Y = sch.linkage(D, method='centroid')\n"
     ]
    },
    {
     "data": {
      "text/plain": [
       "<matplotlib.colorbar.Colorbar at 0x7fab68f40c10>"
      ]
     },
     "execution_count": 48,
     "metadata": {},
     "output_type": "execute_result"
    },
    {
     "data": {
      "image/png": "[encoded data removed]",
      "text/plain": [
       "<Figure size 432x288 with 3 Axes>"
      ]
     },
     "metadata": {
      "needs_background": "light"
     },
     "output_type": "display_data"
    }
   ],
   "source": [
    "D = dist_mat\n",
    "\n",
    "# Compute and plot dendrogram.\n",
    "fig = pylab.figure()\n",
    "axdendro = fig.add_axes([0.09,0.1,0.2,0.8])\n",
    "Y = sch.linkage(D, method='centroid')\n",
    "Z = sch.dendrogram(Y, orientation='right')\n",
    "axdendro.set_xticks([])\n",
    "axdendro.set_yticks([])\n",
    "\n",
    "# Plot distance matrix.\n",
    "axmatrix = fig.add_axes([0.3,0.1,0.6,0.8])\n",
    "index = Z['leaves']\n",
    "D = D[index,:]\n",
    "D = D[:,index]\n",
    "im = axmatrix.matshow(D, aspect='auto', origin='lower')\n",
    "axmatrix.set_xticks([])\n",
    "axmatrix.set_yticks([])\n",
    "\n",
    "# Plot colorbar.\n",
    "axcolor = fig.add_axes([0.91,0.1,0.02,0.8])\n",
    "pylab.colorbar(im, cax=axcolor)"
   ]
  },
  {
   "cell_type": "code",
   "execution_count": 12,
   "metadata": {},
   "outputs": [
    {
     "data": {
      "text/plain": [
       "PCA(n_components=10)"
      ]
     },
     "execution_count": 12,
     "metadata": {},
     "output_type": "execute_result"
    }
   ],
   "source": [
    "pca = PCA(10)\n",
    "pca.fit(data)"
   ]
  },
  {
   "cell_type": "code",
   "execution_count": 13,
   "metadata": {},
   "outputs": [],
   "source": [
    "data_pca = pca.transform(data)"
   ]
  },
  {
   "cell_type": "code",
   "execution_count": 16,
   "metadata": {},
   "outputs": [
    {
     "data": {
      "text/plain": [
       "(15, 10)"
      ]
     },
     "execution_count": 16,
     "metadata": {},
     "output_type": "execute_result"
    }
   ],
   "source": [
    "data_pca.shape"
   ]
  },
  {
   "cell_type": "code",
   "execution_count": 14,
   "metadata": {},
   "outputs": [],
   "source": [
    "losses = np.array([0.388252169, 0.289999992, 0.061253563, 0.112696148, 0.471509963, 0.464949936, 0.428164989,\n",
    "                   0.318116993, 0.705128193, 0.212553501, 0.490662158, 0.52285713, 0.637268841, 0.454415947,\n",
    "                   0.159771755])"
   ]
  },
  {
   "cell_type": "code",
   "execution_count": 19,
   "metadata": {},
   "outputs": [
    {
     "name": "stdout",
     "output_type": "stream",
     "text": [
      "(-0.08441318130106498, 0.7648621656323589)\n",
      "(0.170553174848983, 0.5433706006163662)\n",
      "(0.037797839719343196, 0.8936106239588107)\n",
      "(0.42059076259824796, 0.11850791273365809)\n",
      "(0.0026670686163731694, 0.9924734383175551)\n",
      "(-0.25837123580578414, 0.3524852418745564)\n",
      "(-0.26461697238872334, 0.34054633704712595)\n",
      "(-0.3453863787426796, 0.20735519379301923)\n",
      "(0.22293371353859237, 0.4244984108063906)\n",
      "(0.6135417814038514, 0.014989626602006968)\n"
     ]
    }
   ],
   "source": [
    "for i in range(10):\n",
    "    R = pearsonr(data_pca[:, i], losses)\n",
    "    print(R)"
   ]
  },
  {
   "cell_type": "code",
   "execution_count": 20,
   "metadata": {},
   "outputs": [],
   "source": [
    "dist_mat = distance_matrix(data_pca[:, :9], data_pca[:, :9])"
   ]
  },
  {
   "cell_type": "code",
   "execution_count": 6,
   "metadata": {},
   "outputs": [
    {
     "name": "stdout",
     "output_type": "stream",
     "text": [
      "13\n",
      "9\n",
      "4\n",
      "3\n",
      "10\n",
      "7\n",
      "6\n",
      "8\n",
      "2\n",
      "14\n",
      "11\n",
      "0\n",
      "12\n",
      "1\n",
      "5\n"
     ]
    }
   ],
   "source": [
    "a = np.argsort(trans[:, 1])\n",
    "for i in range(15):\n",
    "    print(a[i])"
   ]
  },
  {
   "cell_type": "code",
   "execution_count": 7,
   "metadata": {},
   "outputs": [
    {
     "name": "stdout",
     "output_type": "stream",
     "text": [
      "-2.7713237\n",
      "-1.5848564\n",
      "-1.2942537\n",
      "-1.1458896\n",
      "-0.96686363\n",
      "-0.8512446\n",
      "-0.6140935\n",
      "0.27170765\n",
      "0.27438506\n",
      "0.3201905\n",
      "1.0133637\n",
      "1.0717618\n",
      "1.2812381\n",
      "1.8232166\n",
      "3.1726623\n"
     ]
    }
   ],
   "source": [
    "a = np.sort(trans[:, 1])\n",
    "for i in range(15):\n",
    "    print(a[i])"
   ]
  },
  {
   "cell_type": "code",
   "execution_count": 14,
   "metadata": {},
   "outputs": [
    {
     "name": "stdout",
     "output_type": "stream",
     "text": [
      "3.1475883\n",
      "4.669107\n",
      "3.3961842\n",
      "3.4729512\n",
      "3.7277327\n",
      "4.6251507\n",
      "4.637158\n",
      "3.6892009\n",
      "4.107788\n",
      "3.6550326\n",
      "3.6904097\n",
      "4.046842\n",
      "3.725337\n",
      "3.4583468\n",
      "3.2108207\n"
     ]
    }
   ],
   "source": [
    "# vector length\n",
    "for a in data:\n",
    "    print(np.linalg.norm(a, 2))"
   ]
  }
 ],
 "metadata": {
  "kernelspec": {
   "display_name": "Python 3 (ipykernel)",
   "language": "python",
   "name": "python3"
  },
  "language_info": {
   "codemirror_mode": {
    "name": "ipython",
    "version": 3
   },
   "file_extension": ".py",
   "mimetype": "text/x-python",
   "name": "python",
   "nbconvert_exporter": "python",
   "pygments_lexer": "ipython3",
   "version": "3.8.5"
  }
 },
 "nbformat": 4,
 "nbformat_minor": 4
}
